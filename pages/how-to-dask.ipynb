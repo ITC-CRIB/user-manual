{
 "cells": [
  {
   "cell_type": "markdown",
   "id": "concerned-federation",
   "metadata": {},
   "source": [
    "# Dask cluster\n",
    "\n",
    "The platform provides a managed Dask cluster for distributed computing purposes.\n",
    "\n",
    "Dask cluster scheduler web interface is available through the launcher. Please enter your UT credentials to access the interface.\n",
    "\n",
    "You can also use Dask JupyterLab extension, which is available on the left sidebar, to access Dask dashboards by entering `proxy/daskscheduler:8787` as the dashboard URL address (without forward slash at the beginning).\n",
    "\n",
    "You can use the following code to create a client object in Pyhon:"
   ]
  },
  {
   "cell_type": "code",
   "execution_count": null,
   "id": "german-supervision",
   "metadata": {},
   "outputs": [
    {
     "data": {
      "text/html": [
       "<table style=\"border: 2px solid white;\">\n",
       "<tr>\n",
       "<td style=\"vertical-align: top; border: 0px solid white\">\n",
       "<h3 style=\"text-align: left;\">Client</h3>\n",
       "<ul style=\"text-align: left; list-style: none; margin: 0; padding: 0;\">\n",
       "  <li><b>Scheduler: </b>tcp://daskscheduler:8786</li>\n",
       "  <li><b>Dashboard: </b><a href='http://daskscheduler:8787/status' target='_blank'>http://daskscheduler:8787/status</a></li>\n",
       "</ul>\n",
       "</td>\n",
       "<td style=\"vertical-align: top; border: 0px solid white\">\n",
       "<h3 style=\"text-align: left;\">Cluster</h3>\n",
       "<ul style=\"text-align: left; list-style:none; margin: 0; padding: 0;\">\n",
       "  <li><b>Workers: </b>8</li>\n",
       "  <li><b>Cores: </b>64</li>\n",
       "  <li><b>Memory: </b>206.16 GB</li>\n",
       "</ul>\n",
       "</td>\n",
       "</tr>\n",
       "</table>"
      ],
      "text/plain": [
       "<Client: 'tcp://172.18.0.4:8786' processes=8 threads=64, memory=206.16 GB>"
      ]
     },
     "execution_count": 1,
     "metadata": {},
     "output_type": "execute_result"
    }
   ],
   "source": [
    "from dask.distributed import Client\n",
    "\n",
    "client = Client(\"daskscheduler:8786\")\n",
    "client"
   ]
  },
  {
   "cell_type": "markdown",
   "id": "blond-reply",
   "metadata": {},
   "source": [
    "It is also possible to create a local Dask cluster, which utilizes multiple cores (up to 8) available on the computing node you are using (i.e. on which JupyterLab is running). Because local client does not need data transfer and communication between different computing nodes, it may perform better for medium-sized workloads.\n",
    "\n",
    "In order to create a local cluster, open Dask tab on the sidebar and click `+ New` button. Once the cluster is created a summary information will be shown on the sidebar. You can obtain code to access the cluster by simply by dragging and dropping the summary information into your notebook."
   ]
  },
  {
   "cell_type": "code",
   "execution_count": null,
   "id": "speaking-detection",
   "metadata": {},
   "outputs": [
    {
     "data": {
      "text/html": [
       "<table style=\"border: 2px solid white;\">\n",
       "<tr>\n",
       "<td style=\"vertical-align: top; border: 0px solid white\">\n",
       "<h3 style=\"text-align: left;\">Client</h3>\n",
       "<ul style=\"text-align: left; list-style: none; margin: 0; padding: 0;\">\n",
       "  <li><b>Scheduler: </b>tcp://127.0.0.1:43213</li>\n",
       "  <li><b>Dashboard: </b><a href='http://127.0.0.1:8787/status' target='_blank'>http://127.0.0.1:8787/status</a></li>\n",
       "</ul>\n",
       "</td>\n",
       "<td style=\"vertical-align: top; border: 0px solid white\">\n",
       "<h3 style=\"text-align: left;\">Cluster</h3>\n",
       "<ul style=\"text-align: left; list-style:none; margin: 0; padding: 0;\">\n",
       "  <li><b>Workers: </b>4</li>\n",
       "  <li><b>Cores: </b>8</li>\n",
       "  <li><b>Memory: </b>25.77 GB</li>\n",
       "</ul>\n",
       "</td>\n",
       "</tr>\n",
       "</table>"
      ],
      "text/plain": [
       "<Client: 'tcp://127.0.0.1:43213' processes=4 threads=8, memory=25.77 GB>"
      ]
     },
     "execution_count": 1,
     "metadata": {},
     "output_type": "execute_result"
    }
   ],
   "source": [
    "from dask.distributed import Client\n",
    "\n",
    "client = Client(\"tcp://127.0.0.1:43213\")\n",
    "client"
   ]
  },
  {
   "cell_type": "code",
   "execution_count": null,
   "id": "possible-pleasure",
   "metadata": {},
   "outputs": [],
   "source": []
  }
 ],
 "metadata": {
  "kernelspec": {
   "display_name": "Python",
   "language": "python",
   "name": "python3"
  },
  "language_info": {
   "codemirror_mode": {
    "name": "ipython",
    "version": 3
   },
   "file_extension": ".py",
   "mimetype": "text/x-python",
   "name": "python",
   "nbconvert_exporter": "python",
   "pygments_lexer": "ipython3",
   "version": "3.8.10"
  }
 },
 "nbformat": 4,
 "nbformat_minor": 5
}
